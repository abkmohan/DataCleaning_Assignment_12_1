{
 "cells": [
  {
   "cell_type": "code",
   "execution_count": 67,
   "metadata": {},
   "outputs": [
    {
     "name": "stdout",
     "output_type": "stream",
     "text": [
      "               Airline  FlightNumber           From_To  RecentDelays\n",
      "0               KLM(!)       10045.0      LoNDon_paris      [23, 47]\n",
      "1    <Air France> (12)           NaN      MAdrid_miLAN            []\n",
      "2  (British Airways. )       10065.0  londON_StockhOlm  [24, 43, 87]\n",
      "3       12. Air France           NaN    Budapest_PaRis          [13]\n",
      "4          \"Swiss Air\"       10085.0   Brussels_londOn      [67, 32]\n"
     ]
    }
   ],
   "source": [
    "#Course: Data Science Masters\n",
    "#Title: Pandas - Assignment 12.1            \n",
    "#Tool: Jupyter notebook \n",
    "#Author: Krishna A\n",
    "#Date: 27-04-2018 (DD/MM/YYYY)\n",
    "\n",
    "# Data Cleaning Assignments\n",
    "\n",
    "import pandas as pd\n",
    "import numpy as np\n",
    "from pandasql import sqldf\n",
    "\n",
    "#Sample monstrosity as the DataFrame to use in the following puzzles:\n",
    "df = pd.DataFrame({\n",
    "    'From_To': ['LoNDon_paris', 'MAdrid_miLAN', 'londON_StockhOlm',\n",
    "    'Budapest_PaRis', 'Brussels_londOn'],\n",
    "    'FlightNumber': [10045, np.nan, 10065, np.nan, 10085],\n",
    "    'RecentDelays': [[23, 47], [], [24, 43, 87], [13], [67, 32]],\n",
    "    'Airline': ['KLM(!)', '<Air France> (12)', '(British Airways. )',\n",
    "    '12. Air France', '\"Swiss Air\"']\n",
    "    })\n",
    "\n",
    "print(df)        "
   ]
  },
  {
   "cell_type": "code",
   "execution_count": 68,
   "metadata": {},
   "outputs": [
    {
     "name": "stdout",
     "output_type": "stream",
     "text": [
      "float64\n",
      "               Airline  FlightNumber           From_To  RecentDelays\n",
      "0               KLM(!)       10045.0      LoNDon_paris      [23, 47]\n",
      "1    <Air France> (12)       10055.0      MAdrid_miLAN            []\n",
      "2  (British Airways. )       10065.0  londON_StockhOlm  [24, 43, 87]\n",
      "3       12. Air France       10075.0    Budapest_PaRis          [13]\n",
      "4          \"Swiss Air\"       10085.0   Brussels_londOn      [67, 32]\n",
      "int64\n"
     ]
    }
   ],
   "source": [
    "#Problem statement 1: Some values in the the FlightNumber column are missing. These numbers are meant\n",
    "#                     to increase by 10 with each row so 10055 and 10075 need to be put in place. Fill in\n",
    "#                     these missing numbers and make the column an integer column (instead of a float column).\n",
    "\n",
    "print(df.FlightNumber.dtype)  #To confirm FlighNumber data type\n",
    "\n",
    "for i in range(1, len(df)):  #code snippet to update nan values based on previous row value.\n",
    "    if np.isnan(df.loc[i,'FlightNumber']):     #loc[i,'FlightNumber'] == np.nan:\n",
    "        df.loc[i, 'FlightNumber'] = df.loc[i-1, 'FlightNumber'] + 10\n",
    "        \n",
    "print(df)\n",
    "\n",
    "df['FlightNumber']=df['FlightNumber'].astype('int64')  #changing datatype from float to integer \n",
    "\n",
    "print(df.FlightNumber.dtype) #To confirm updated lighNumber data type to integer"
   ]
  },
  {
   "cell_type": "code",
   "execution_count": 69,
   "metadata": {},
   "outputs": [
    {
     "name": "stdout",
     "output_type": "stream",
     "text": [
      "       From         To\n",
      "0    LoNDon      paris\n",
      "1    MAdrid      miLAN\n",
      "2    londON  StockhOlm\n",
      "3  Budapest      PaRis\n",
      "4  Brussels     londOn\n"
     ]
    }
   ],
   "source": [
    "#Problem statment 2: The From_To column would be better as two separate columns! Split each string on\n",
    "#                    the underscore delimiter _ to give a new temporary DataFrame with the correct values.\n",
    "#                    Assign the correct column names to this temporary DataFrame.\n",
    "\n",
    "temp_df = pd.DataFrame(df['From_To'].str.split('_').tolist(),columns = ['From','To'])\n",
    "print(temp_df)"
   ]
  },
  {
   "cell_type": "code",
   "execution_count": 70,
   "metadata": {},
   "outputs": [
    {
     "name": "stdout",
     "output_type": "stream",
     "text": [
      "       From         To\n",
      "0    London      Paris\n",
      "1    Madrid      Milan\n",
      "2    London  Stockholm\n",
      "3  Budapest      Paris\n",
      "4  Brussels     London\n"
     ]
    }
   ],
   "source": [
    "#Problem statment 3: Notice how the capitalisation of the city names is all mixed up in this temporary\n",
    "#                    DataFrame. Standardise the strings so that only the first letter is uppercase (e.g.\n",
    "#                    \"londON\" should become \"London\".)\n",
    "\n",
    "temp_df['From'] = temp_df['From'].str.title()  # Changing to title case\n",
    "temp_df['To'] = temp_df['To'].str.title()      # Changing to title case\n",
    "print(temp_df)"
   ]
  },
  {
   "cell_type": "code",
   "execution_count": 71,
   "metadata": {},
   "outputs": [
    {
     "name": "stdout",
     "output_type": "stream",
     "text": [
      "               Airline  FlightNumber  RecentDelays      From         To\n",
      "0               KLM(!)         10045      [23, 47]    London      Paris\n",
      "1    <Air France> (12)         10055            []    Madrid      Milan\n",
      "2  (British Airways. )         10065  [24, 43, 87]    London  Stockholm\n",
      "3       12. Air France         10075          [13]  Budapest      Paris\n",
      "4          \"Swiss Air\"         10085      [67, 32]  Brussels     London\n"
     ]
    }
   ],
   "source": [
    "#Problem statment 4: Delete the From_To column from df and attach the temporary DataFrame from the\n",
    "#                    previous questions.\n",
    "\n",
    "df = df.drop('From_To', axis=1)  #Drop Column From_To\n",
    "df = pd.concat([df, temp_df],axis=1,join='inner')\n",
    "print(df)"
   ]
  },
  {
   "cell_type": "code",
   "execution_count": 72,
   "metadata": {},
   "outputs": [
    {
     "name": "stdout",
     "output_type": "stream",
     "text": [
      "               Airline  FlightNumber      From         To  Delay_1  Delay_2  \\\n",
      "0               KLM(!)         10045    London      Paris     23.0     47.0   \n",
      "1    <Air France> (12)         10055    Madrid      Milan      NaN      NaN   \n",
      "2  (British Airways. )         10065    London  Stockholm     24.0     43.0   \n",
      "3       12. Air France         10075  Budapest      Paris     13.0      NaN   \n",
      "4          \"Swiss Air\"         10085  Brussels     London     67.0     32.0   \n",
      "\n",
      "   Delay_3  \n",
      "0      NaN  \n",
      "1      NaN  \n",
      "2     87.0  \n",
      "3      NaN  \n",
      "4      NaN  \n"
     ]
    }
   ],
   "source": [
    "#Problem statment 5: In the RecentDelays column, the values have been entered into the DataFrame as a\n",
    "#                    list. We would like each first value in its own column, each second value in its own\n",
    "#                    column, and so on. If there isn't an Nth value, the value should be NaN.\n",
    "\n",
    "#                   Expand the Series of lists into a DataFrame named delays, rename the columns delay_1,\n",
    "#                   delay_2, etc. and replace the unwanted RecentDelays column in df with delays.\n",
    "\n",
    "iNewcolumns = df[\"RecentDelays\"].str.len().max()  #to get the maxsize of RecentDelays list to determine new columns count\n",
    "\n",
    "lNewColNames = []\n",
    "for i in range(0, 3):\n",
    "    lNewColNames.append('Delay_' + str(i+1))\n",
    "\n",
    "df[lNewColNames] = pd.DataFrame(df.RecentDelays.values.tolist(), index= df.index)\n",
    "df = df.drop('RecentDelays', axis=1)  #Drop Column From_To\n",
    "print (df)"
   ]
  },
  {
   "cell_type": "code",
   "execution_count": null,
   "metadata": {
    "collapsed": true
   },
   "outputs": [],
   "source": []
  }
 ],
 "metadata": {
  "kernelspec": {
   "display_name": "Python 3",
   "language": "python",
   "name": "python3"
  },
  "language_info": {
   "codemirror_mode": {
    "name": "ipython",
    "version": 3
   },
   "file_extension": ".py",
   "mimetype": "text/x-python",
   "name": "python",
   "nbconvert_exporter": "python",
   "pygments_lexer": "ipython3",
   "version": "3.6.3"
  }
 },
 "nbformat": 4,
 "nbformat_minor": 2
}
